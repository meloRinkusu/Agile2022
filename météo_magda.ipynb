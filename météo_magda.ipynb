{
 "cells": [
  {
   "cell_type": "code",
   "execution_count": 1,
   "id": "fd08dfb5",
   "metadata": {},
   "outputs": [],
   "source": [
    "import requests"
   ]
  },
  {
   "cell_type": "code",
   "execution_count": 12,
   "id": "52c9c2e9",
   "metadata": {},
   "outputs": [
    {
     "name": "stdout",
     "output_type": "stream",
     "text": [
      "Enter city name : dijon\n",
      " Temperature (en degrés Celsius) = 13.879999999999995\n",
      " description = overcast clouds\n"
     ]
    }
   ],
   "source": [
    "api_key = \"65fcb2c6000e75232d0308d8de7b0282\"  # Enter the API key you got from the OpenWeatherMap website\n",
    "base_url = \"http://api.openweathermap.org/data/2.5/weather?\"\n",
    "\n",
    "city_name = input(\"Enter city name : \")\n",
    "complete_url = base_url + \"appid=\" + 'd850f7f52bf19300a9eb4b0aa6b80f0d' + \"&q=\" + city_name  # This is to complete the base_url, you can also do this manually to checkout other weather data available\n",
    "response = requests.get(complete_url)\n",
    "x = response.json()\n",
    "\n",
    "if x[\"cod\"] != \"404\":\n",
    "    y = x[\"main\"]\n",
    "\n",
    "    current_temperature = y[\"temp\"] \n",
    "    current_temperature=  current_temperature -273.15\n",
    "    z = x[\"weather\"]\n",
    "\n",
    "    weather_description = z[0][\"description\"]\n",
    "\n",
    "    print(\" Temperature (en degrés Celsius) = \" +\n",
    "                    str(current_temperature) +\n",
    "          \"\\n description = \" +\n",
    "                    str(weather_description))\n",
    "\n",
    "else:\n",
    "    print(\" City Not Found \")"
   ]
  },
  {
   "cell_type": "code",
   "execution_count": null,
   "id": "8e3f5529",
   "metadata": {},
   "outputs": [],
   "source": []
  }
 ],
 "metadata": {
  "kernelspec": {
   "display_name": "Python 3 (ipykernel)",
   "language": "python",
   "name": "python3"
  },
  "language_info": {
   "codemirror_mode": {
    "name": "ipython",
    "version": 3
   },
   "file_extension": ".py",
   "mimetype": "text/x-python",
   "name": "python",
   "nbconvert_exporter": "python",
   "pygments_lexer": "ipython3",
   "version": "3.10.6"
  }
 },
 "nbformat": 4,
 "nbformat_minor": 5
}
